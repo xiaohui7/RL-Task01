{
 "cells": [
  {
   "cell_type": "code",
   "execution_count": 10,
   "id": "16e3c936",
   "metadata": {},
   "outputs": [],
   "source": [
    "n=3\n",
    "m=7\n",
    "f1=[[1] * n]\n",
    "f2=[[1] + [0] * (n - 1) for _ in range(m - 1)] \n",
    "f = [[1] * n] + [[1] + [0] * (n - 1) for _ in range(m - 1)] "
   ]
  },
  {
   "cell_type": "code",
   "execution_count": 11,
   "id": "3a532066",
   "metadata": {},
   "outputs": [
    {
     "name": "stdout",
     "output_type": "stream",
     "text": [
      "[[1, 1, 1]]\n",
      "[[1, 0, 0], [1, 0, 0], [1, 0, 0], [1, 0, 0], [1, 0, 0], [1, 0, 0]]\n",
      "[[1, 1, 1], [1, 0, 0], [1, 0, 0], [1, 0, 0], [1, 0, 0], [1, 0, 0], [1, 0, 0]]\n"
     ]
    }
   ],
   "source": [
    "print(f1)\n",
    "print(f2)\n",
    "print(f)"
   ]
  },
  {
   "cell_type": "code",
   "execution_count": null,
   "id": "980790d3",
   "metadata": {},
   "outputs": [],
   "source": []
  }
 ],
 "metadata": {
  "kernelspec": {
   "display_name": "Python 3 (ipykernel)",
   "language": "python",
   "name": "python3"
  },
  "language_info": {
   "codemirror_mode": {
    "name": "ipython",
    "version": 3
   },
   "file_extension": ".py",
   "mimetype": "text/x-python",
   "name": "python",
   "nbconvert_exporter": "python",
   "pygments_lexer": "ipython3",
   "version": "3.9.13"
  }
 },
 "nbformat": 4,
 "nbformat_minor": 5
}
